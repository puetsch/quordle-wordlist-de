{
 "cells": [
  {
   "cell_type": "markdown",
   "metadata": {},
   "source": [
    "# German worldist for quordle\n",
    "\n",
    "The objective is to generate two wordlists for use at [Quordle](https://www.quordle.com/).\n",
    "\n",
    "I'm using the the [DeReKo](https://www.ids-mannheim.de/digspra/kl/projekte/methoden/derewo) word list from IDS Mannheim."
   ]
  },
  {
   "cell_type": "code",
   "execution_count": 1,
   "metadata": {},
   "outputs": [],
   "source": [
    "import pandas as pd\n",
    "import re"
   ]
  },
  {
   "cell_type": "code",
   "execution_count": 2,
   "metadata": {},
   "outputs": [],
   "source": [
    "# generate translation table for umlauts\n",
    "umlauts = str.maketrans({\n",
    "    'ä': 'ae',\n",
    "    'ö': 'oe',\n",
    "    'ü': 'ue',\n",
    "    'ß': 'ss'\n",
    "})"
   ]
  },
  {
   "cell_type": "code",
   "execution_count": 3,
   "metadata": {},
   "outputs": [
    {
     "data": {
      "text/plain": [
       "(100000, 4)"
      ]
     },
     "execution_count": 3,
     "metadata": {},
     "output_type": "execute_result"
    }
   ],
   "source": [
    "dereko = pd.read_table('/Users/felixpuetsch/Downloads/DeReKo-2014-II-MainArchive-STT.100000.freq', quoting=3, names=['word','base','gram','freq'])\n",
    "dereko.shape"
   ]
  },
  {
   "cell_type": "code",
   "execution_count": 4,
   "metadata": {},
   "outputs": [
    {
     "data": {
      "text/html": [
       "<div>\n",
       "<style scoped>\n",
       "    .dataframe tbody tr th:only-of-type {\n",
       "        vertical-align: middle;\n",
       "    }\n",
       "\n",
       "    .dataframe tbody tr th {\n",
       "        vertical-align: top;\n",
       "    }\n",
       "\n",
       "    .dataframe thead th {\n",
       "        text-align: right;\n",
       "    }\n",
       "</style>\n",
       "<table border=\"1\" class=\"dataframe\">\n",
       "  <thead>\n",
       "    <tr style=\"text-align: right;\">\n",
       "      <th></th>\n",
       "      <th>word</th>\n",
       "      <th>base</th>\n",
       "      <th>gram</th>\n",
       "      <th>freq</th>\n",
       "    </tr>\n",
       "  </thead>\n",
       "  <tbody>\n",
       "    <tr>\n",
       "      <th>0</th>\n",
       "      <td>,</td>\n",
       "      <td>,</td>\n",
       "      <td>$,</td>\n",
       "      <td>5.003677e+08</td>\n",
       "    </tr>\n",
       "    <tr>\n",
       "      <th>1</th>\n",
       "      <td>.</td>\n",
       "      <td>.</td>\n",
       "      <td>$.</td>\n",
       "      <td>4.813702e+08</td>\n",
       "    </tr>\n",
       "    <tr>\n",
       "      <th>2</th>\n",
       "      <td>der</td>\n",
       "      <td>die</td>\n",
       "      <td>ART</td>\n",
       "      <td>2.414084e+08</td>\n",
       "    </tr>\n",
       "    <tr>\n",
       "      <th>3</th>\n",
       "      <td>die</td>\n",
       "      <td>die</td>\n",
       "      <td>ART</td>\n",
       "      <td>1.889439e+08</td>\n",
       "    </tr>\n",
       "    <tr>\n",
       "      <th>4</th>\n",
       "      <td>und</td>\n",
       "      <td>und</td>\n",
       "      <td>KON</td>\n",
       "      <td>1.863516e+08</td>\n",
       "    </tr>\n",
       "    <tr>\n",
       "      <th>5</th>\n",
       "      <td>\"</td>\n",
       "      <td>\"</td>\n",
       "      <td>$(</td>\n",
       "      <td>1.562596e+08</td>\n",
       "    </tr>\n",
       "    <tr>\n",
       "      <th>6</th>\n",
       "      <td>in</td>\n",
       "      <td>in</td>\n",
       "      <td>APPR</td>\n",
       "      <td>1.400409e+08</td>\n",
       "    </tr>\n",
       "    <tr>\n",
       "      <th>7</th>\n",
       "      <td>den</td>\n",
       "      <td>die</td>\n",
       "      <td>ART</td>\n",
       "      <td>9.022159e+07</td>\n",
       "    </tr>\n",
       "    <tr>\n",
       "      <th>8</th>\n",
       "      <td>)</td>\n",
       "      <td>)</td>\n",
       "      <td>$(</td>\n",
       "      <td>8.778168e+07</td>\n",
       "    </tr>\n",
       "    <tr>\n",
       "      <th>9</th>\n",
       "      <td>(</td>\n",
       "      <td>(</td>\n",
       "      <td>$(</td>\n",
       "      <td>8.623502e+07</td>\n",
       "    </tr>\n",
       "  </tbody>\n",
       "</table>\n",
       "</div>"
      ],
      "text/plain": [
       "  word base  gram          freq\n",
       "0    ,    ,    $,  5.003677e+08\n",
       "1    .    .    $.  4.813702e+08\n",
       "2  der  die   ART  2.414084e+08\n",
       "3  die  die   ART  1.889439e+08\n",
       "4  und  und   KON  1.863516e+08\n",
       "5    \"    \"    $(  1.562596e+08\n",
       "6   in   in  APPR  1.400409e+08\n",
       "7  den  die   ART  9.022159e+07\n",
       "8    )    )    $(  8.778168e+07\n",
       "9    (    (    $(  8.623502e+07"
      ]
     },
     "execution_count": 4,
     "metadata": {},
     "output_type": "execute_result"
    }
   ],
   "source": [
    "dereko.head(10)"
   ]
  },
  {
   "cell_type": "markdown",
   "metadata": {},
   "source": [
    "## Full list\n",
    "\n",
    "Generate the full list based on all words incl. inflections"
   ]
  },
  {
   "cell_type": "code",
   "execution_count": 13,
   "metadata": {},
   "outputs": [
    {
     "name": "stdout",
     "output_type": "stream",
     "text": [
      "(2483,)\n"
     ]
    },
    {
     "data": {
      "text/plain": [
       "0     abbau\n",
       "1     abend\n",
       "2     abgab\n",
       "3     abhob\n",
       "4     abkam\n",
       "5     about\n",
       "6     abruf\n",
       "7     abtei\n",
       "8     abtes\n",
       "9     abtun\n",
       "10    abzog\n",
       "11    abzug\n",
       "12    achse\n",
       "13    achte\n",
       "14    acker\n",
       "Name: word, dtype: object"
      ]
     },
     "execution_count": 13,
     "metadata": {},
     "output_type": "execute_result"
    }
   ],
   "source": [
    "dereko_full = dereko.loc[~dereko.gram.isin(['NE']), ['word','freq']].copy()\n",
    "dereko_full.word = dereko_full.word.str.lower().str.translate(umlauts)\n",
    "dereko_full = dereko_full.groupby('word').freq.sum().filter(regex='^[a-z]{5}$').sort_values(ascending=False)\n",
    "print(dereko_full.shape)\n",
    "quordle_full = dereko_full.sort_index().reset_index().word\n",
    "quordle_full.head(15)"
   ]
  },
  {
   "cell_type": "code",
   "execution_count": 10,
   "metadata": {},
   "outputs": [],
   "source": [
    "quordle_full.to_csv('quordle-full.csv', index=False, encoding='utf-8', header=None)"
   ]
  },
  {
   "cell_type": "markdown",
   "metadata": {},
   "source": [
    "## Answers\n",
    "\n",
    "Generate the list of answers only from the base forms of the words"
   ]
  },
  {
   "cell_type": "code",
   "execution_count": 14,
   "metadata": {},
   "outputs": [
    {
     "name": "stdout",
     "output_type": "stream",
     "text": [
      "(1546,)\n"
     ]
    },
    {
     "data": {
      "text/plain": [
       "0     abbau\n",
       "1     abend\n",
       "2     abgas\n",
       "3     abruf\n",
       "4     abtei\n",
       "5     abtun\n",
       "6     abweg\n",
       "7     abzug\n",
       "8     achse\n",
       "9     acker\n",
       "10    acryl\n",
       "11    adeln\n",
       "12    adieu\n",
       "13    adler\n",
       "14    adlig\n",
       "Name: base, dtype: object"
      ]
     },
     "execution_count": 14,
     "metadata": {},
     "output_type": "execute_result"
    }
   ],
   "source": [
    "dereko_answer = dereko.loc[~dereko.gram.isin(['NE']), ['base','freq']].copy()\n",
    "dereko_answer.base = dereko_answer.base.str.lower().str.translate(umlauts)\n",
    "dereko_answer = dereko_answer.groupby('base').freq.sum().filter(regex='^[a-z]{5}$').sort_values(ascending=False)\n",
    "print(dereko_answer.shape)\n",
    "quordle_answer = dereko_answer.sort_index().reset_index().base\n",
    "quordle_answer.head(15)"
   ]
  },
  {
   "cell_type": "code",
   "execution_count": 12,
   "metadata": {},
   "outputs": [],
   "source": [
    "quordle_answer.to_csv('quordle-answer.csv', index=False, encoding='utf-8', header=None)"
   ]
  }
 ],
 "metadata": {
  "kernelspec": {
   "display_name": "Python 3.8.2 64-bit ('py38': conda)",
   "language": "python",
   "name": "python38264bitpy38condaec5b1c1dc88446dbbda4a1f410e7f7d4"
  },
  "language_info": {
   "codemirror_mode": {
    "name": "ipython",
    "version": 3
   },
   "file_extension": ".py",
   "mimetype": "text/x-python",
   "name": "python",
   "nbconvert_exporter": "python",
   "pygments_lexer": "ipython3",
   "version": "3.8.11"
  }
 },
 "nbformat": 4,
 "nbformat_minor": 4
}
